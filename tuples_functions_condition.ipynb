{
 "cells": [
  {
   "cell_type": "code",
   "execution_count": 7,
   "metadata": {},
   "outputs": [
    {
     "name": "stdout",
     "output_type": "stream",
     "text": [
      "(3, 4)\n"
     ]
    }
   ],
   "source": [
    "coordinates = (3,4) \n",
    "\"\"\" tuples can't be changed\"\"\"\n",
    "print(coordinates)\n",
    "list1 = [3, 4]\n",
    "list1[1] = 2  #list can be changed\n"
   ]
  },
  {
   "cell_type": "code",
   "execution_count": 19,
   "metadata": {},
   "outputs": [
    {
     "name": "stdout",
     "output_type": "stream",
     "text": [
      "In fun1 input parameter\n",
      "In fun1 Hi\n",
      "64\n"
     ]
    }
   ],
   "source": [
    "def fun1(str):\n",
    "    print(\"In fun1 \" + str) \n",
    "    return\n",
    "fun1(\"input parameter\")\n",
    "fun1(\"Hi\")\n",
    "\n",
    "\n",
    "def cube(num):\n",
    "    return num*num*num\n",
    "    print(\"any\") #it wont print any thing \n",
    "print(cube(4))"
   ]
  },
  {
   "cell_type": "code",
   "execution_count": 29,
   "metadata": {},
   "outputs": [
    {
     "name": "stdout",
     "output_type": "stream",
     "text": [
      "male\n"
     ]
    }
   ],
   "source": [
    "ismale = True\n",
    "itall = True\n",
    "if ismale or istall:\n",
    "    print(\"male\")\n",
    "elif ismale and not(istall):\n",
    "    print(\"elif\")\n",
    "else:\n",
    "    print(\"female\")"
   ]
  },
  {
   "cell_type": "code",
   "execution_count": 32,
   "metadata": {},
   "outputs": [
    {
     "name": "stdout",
     "output_type": "stream",
     "text": [
      "4\n",
      "False\n"
     ]
    }
   ],
   "source": [
    "def maxof(num1,num2):\n",
    "    if num1>num2:\n",
    "        return num1\n",
    "    else:\n",
    "        return num2\n",
    "def iequal(num1,num2):\n",
    "    if num1 ==num2:\n",
    "        return True\n",
    "    elif num1 != num2:\n",
    "        return False    \n",
    "print(maxof(3,4)) \n",
    "print(iequal(3,4)) \n"
   ]
  },
  {
   "cell_type": "code",
   "execution_count": 1,
   "metadata": {},
   "outputs": [
    {
     "name": "stdout",
     "output_type": "stream",
     "text": [
      "Mohamed\n"
     ]
    }
   ],
   "source": [
    "#lambda function\n",
    "print_name = lambda name: print(name)\n",
    "print_name(\"Mohamed\")"
   ]
  },
  {
   "cell_type": "code",
   "execution_count": null,
   "metadata": {},
   "outputs": [],
   "source": []
  }
 ],
 "metadata": {
  "kernelspec": {
   "display_name": "Python 3",
   "language": "python",
   "name": "python3"
  },
  "language_info": {
   "codemirror_mode": {
    "name": "ipython",
    "version": 3
   },
   "file_extension": ".py",
   "mimetype": "text/x-python",
   "name": "python",
   "nbconvert_exporter": "python",
   "pygments_lexer": "ipython3",
   "version": "3.7.6"
  }
 },
 "nbformat": 4,
 "nbformat_minor": 4
}
