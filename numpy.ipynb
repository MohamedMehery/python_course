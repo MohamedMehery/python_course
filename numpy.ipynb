{
 "cells": [
  {
   "cell_type": "markdown",
   "metadata": {},
   "source": [
    "##  This juypeter notbook based on numpy youtube tutorial\n",
    "* Help markdown script is used in github\n",
    "- this cell is markdown script"
   ]
  },
  {
   "cell_type": "code",
   "execution_count": 9,
   "metadata": {},
   "outputs": [
    {
     "name": "stdout",
     "output_type": "stream",
     "text": [
      "[[[1. 2. 3.]\n",
      "  [4. 5. 6.]]\n",
      "\n",
      " [[7. 8. 9.]\n",
      "  [0. 0. 0.]]]\n",
      "(2, 2, 3)\n",
      "float32\n",
      "4\n",
      "[[[1. 3.]\n",
      "  [4. 6.]]\n",
      "\n",
      " [[7. 9.]\n",
      "  [0. 0.]]]\n",
      "---------------\n",
      "[[[3. 1.]\n",
      "  [6. 4.]]\n",
      "\n",
      " [[9. 7.]\n",
      "  [0. 0.]]]\n",
      "---------------\n",
      "[[1. 4.]\n",
      " [7. 0.]]\n",
      "---------------\n"
     ]
    }
   ],
   "source": [
    "import numpy as np\n",
    "\n",
    "#why numpy? because it's faster than list, numpy utilize contiguouse memory.\n",
    "arr1 = np.array([[[1.0,2.0,3.0],[4,5,6]] , [[7,8,9],[0,0,0]]] , dtype = 'float32') #floats\n",
    "print(arr1)\n",
    "print(arr1.shape)\n",
    "print(arr1.dtype)\n",
    "print(arr1[0][0][0].nbytes) #print the size of single element\n",
    "print(f\"{arr1[:,:,0: :2]}\\n---------------\") #print all elements but jumb by two\n",
    "print(f\"{arr1[:,:,-1: :-2]}\\n---------------\") #print all elements but jumb by two backward\n",
    "print(f\"{arr1[:,:,0]}\\n---------------\") #print all first colmn"
   ]
  },
  {
   "cell_type": "markdown",
   "metadata": {},
   "source": [
    "# Difference matrices\n",
    "* np.zeros( (size tuble) )\n",
    "* np.one( (size tuble) )\n",
    "* np.full( (size tuble) , value , dtype = 'int64' )\n",
    "* np.full_like( arr1 , 55 )\n",
    "* np.random.rand(4,2,3) \n",
    "* np.random.randomsample(arr1.shape)"
   ]
  },
  {
   "cell_type": "code",
   "execution_count": 28,
   "metadata": {},
   "outputs": [
    {
     "name": "stdout",
     "output_type": "stream",
     "text": [
      "[[0. 0. 0.]\n",
      " [0. 0. 0.]\n",
      " [0. 0. 0.]]\n",
      "[[1. 1. 1.]\n",
      " [1. 1. 1.]\n",
      " [1. 1. 1.]]\n",
      "[[69. 69. 69.]\n",
      " [69. 69. 69.]\n",
      " [69. 69. 69.]]\n",
      "[[[55. 55. 55.]\n",
      "  [55. 55. 55.]]\n",
      "\n",
      " [[55. 55. 55.]\n",
      "  [55. 55. 55.]]]\n",
      "[[[0.25205648 0.33119954 0.87668045]\n",
      "  [0.78823201 0.22929617 0.08100779]]\n",
      "\n",
      " [[0.31605485 0.50215462 0.79992741]\n",
      "  [0.28780637 0.71712535 0.4930311 ]]\n",
      "\n",
      " [[0.00440271 0.82096155 0.12559444]\n",
      "  [0.48221134 0.74656849 0.58557215]]\n",
      "\n",
      " [[0.49840169 0.65973592 0.73530208]\n",
      "  [0.77908609 0.88173427 0.57140106]]]\n",
      "[[[0.1286414  0.4955119  0.11393157]\n",
      "  [0.60898051 0.55685623 0.5508538 ]]\n",
      "\n",
      " [[0.86297667 0.82170493 0.22673113]\n",
      "  [0.63748307 0.59697544 0.78872627]]]\n"
     ]
    }
   ],
   "source": [
    "print( f\"{np.zeros((3,3))}\" )\n",
    "print( f\"{np.ones((3,3))}\" )\n",
    "print( f\"{np.full((3,3) , 69 , dtype = 'float64')}\" )\n",
    "print( f\"{np.full_like(arr1, 55) }\" )\n",
    "print( f\"{np.random.rand(4,2,3) }\" )\n"
   ]
  },
  {
   "cell_type": "code",
   "execution_count": 39,
   "metadata": {},
   "outputs": [
    {
     "name": "stdout",
     "output_type": "stream",
     "text": [
      "[[[0.2077368  0.76752537 0.30263395]\n",
      "  [0.98440485 0.35892762 0.23440107]]\n",
      "\n",
      " [[0.31308262 0.90866551 0.96949489]\n",
      "  [0.31216129 0.15910614 0.11804916]]]\n",
      "[[[-34 -35 -18]\n",
      "  [-18 -47 -12]]\n",
      "\n",
      " [[-25 -47  -7]\n",
      "  [-12 -47  -9]]]\n",
      "[[1. 0. 0. 0. 0.]\n",
      " [0. 1. 0. 0. 0.]\n",
      " [0. 0. 1. 0. 0.]\n",
      " [0. 0. 0. 1. 0.]\n",
      " [0. 0. 0. 0. 1.]]\n",
      "[1. 1. 1. 2. 2. 2. 3. 3. 3. 4. 4. 4. 5. 5. 5. 6. 6. 6. 7. 7. 7. 8. 8. 8.\n",
      " 9. 9. 9. 0. 0. 0. 0. 0. 0. 0. 0. 0.]\n",
      "[[[1. 2. 3.]\n",
      "  [4. 5. 6.]]\n",
      "\n",
      " [[1. 2. 3.]\n",
      "  [4. 5. 6.]]\n",
      "\n",
      " [[1. 2. 3.]\n",
      "  [4. 5. 6.]]\n",
      "\n",
      " [[7. 8. 9.]\n",
      "  [0. 0. 0.]]\n",
      "\n",
      " [[7. 8. 9.]\n",
      "  [0. 0. 0.]]\n",
      "\n",
      " [[7. 8. 9.]\n",
      "  [0. 0. 0.]]]\n",
      "[[[1. 2. 3.]\n",
      "  [1. 2. 3.]\n",
      "  [1. 2. 3.]\n",
      "  [4. 5. 6.]\n",
      "  [4. 5. 6.]\n",
      "  [4. 5. 6.]]\n",
      "\n",
      " [[7. 8. 9.]\n",
      "  [7. 8. 9.]\n",
      "  [7. 8. 9.]\n",
      "  [0. 0. 0.]\n",
      "  [0. 0. 0.]\n",
      "  [0. 0. 0.]]]\n"
     ]
    }
   ],
   "source": [
    "print( f\"{np.random.random_sample(arr1.shape) }\" )\n",
    "print( f\"{np.random.randint(-50,5,arr1.shape) }\" )\n",
    "print( f\"{np.identity( 5 ) }\" )\n",
    "print( f\"{np.repeat(arr1 , 3) }\" )\n",
    "print( f\"{np.repeat(arr1 , 3 , axis = 0) }\" )\n",
    "print( f\"{np.repeat(arr1 , 3 , axis = 1) }\" )"
   ]
  },
  {
   "cell_type": "code",
   "execution_count": 57,
   "metadata": {},
   "outputs": [
    {
     "name": "stdout",
     "output_type": "stream",
     "text": [
      "[[1. 1. 1. 1. 1.]\n",
      " [1. 0. 0. 0. 1.]\n",
      " [1. 0. 9. 0. 1.]\n",
      " [1. 0. 0. 0. 1.]\n",
      " [1. 1. 1. 1. 1.]]\n",
      "Number of arr2 colomns = 5\n",
      "Number of arr2 raws = 5\n"
     ]
    }
   ],
   "source": [
    "import numpy as np\n",
    "# Quiz\n",
    "a = np.ones( (5,5) )\n",
    "b = np.zeros( (3,3) )\n",
    "b[1,1] = 9\n",
    "a[1:-1,1:-1] = b.copy() #be careful when you copy array\n",
    "print(f\"{a}\")\n",
    "print(f\"Number of arr2 colomns = {a.shape[1]}\")\n",
    "print(f\"Number of arr2 raws = {a.shape[0]}\")"
   ]
  },
  {
   "cell_type": "markdown",
   "metadata": {},
   "source": [
    "# Mathematics"
   ]
  },
  {
   "cell_type": "code",
   "execution_count": 86,
   "metadata": {},
   "outputs": [
    {
     "name": "stdout",
     "output_type": "stream",
     "text": [
      "[[1 2 3 4]]\n",
      "[[3 4 5 6]]\n",
      "[[ 1  4  9 16]]\n",
      "[[0.5 1.  1.5 2. ]]\n",
      "[[ 0.84147098  0.90929743  0.14112001 -0.7568025 ]]\n",
      "sum of a at vertical axis [10]\n",
      "maximum element value of a at vertical axis [4]\n",
      "Number of arr2 colomns = 4\n",
      "Number of arr2 raws = 1\n"
     ]
    }
   ],
   "source": [
    "a = np.array([[1,2,3,4]])\n",
    "b = a + 2\n",
    "c = a ** 2\n",
    "d = a / 2\n",
    "e = np.sin(a)\n",
    "f = np.sum(a , axis = 1)\n",
    "g = np.max(a, axis = 1)\n",
    "print(f\"{a}\")\n",
    "print(f\"{b}\")\n",
    "print(f\"{c}\")\n",
    "print(f\"{d}\")\n",
    "print(f\"{e}\")\n",
    "print(f\"sum of a at vertical axis {f}\")\n",
    "print(f\"maximum element value of a at vertical axis {g}\")\n",
    "\n",
    "print(f\"Number of arr2 colomns = {a.shape[1]}\")\n",
    "print(f\"Number of arr2 raws = {a.shape[0]}\")"
   ]
  },
  {
   "cell_type": "markdown",
   "metadata": {},
   "source": [
    "# Linear Algebra\n",
    "\n"
   ]
  },
  {
   "cell_type": "code",
   "execution_count": 88,
   "metadata": {},
   "outputs": [
    {
     "name": "stdout",
     "output_type": "stream",
     "text": [
      "[[1. 1.]\n",
      " [1. 1.]\n",
      " [1. 1.]]\n",
      "[[5 5 5]\n",
      " [5 5 5]\n",
      " [5 5 5]\n",
      " [5 5 5]]\n",
      "b × a =\n",
      "[[15. 15.]\n",
      " [15. 15.]\n",
      " [15. 15.]\n",
      " [15. 15.]]\n",
      "Reshape b x a =\n",
      "[[15. 15. 15. 15.]\n",
      " [15. 15. 15. 15.]]\n",
      "Determnenant of identity matrix multiplied by 2 = 32.0\n"
     ]
    }
   ],
   "source": [
    "a = np.ones( (3,2) )\n",
    "b = np.full( (4,3) , 5)\n",
    "c = np.matmul(b,a)\n",
    "d = c.reshape( (2, 4))\n",
    "print(f\"{a}\")\n",
    "print(f\"{b}\")\n",
    "print(f\"b × a =\\n{c}\")\n",
    "print(f\"Reshape b x a =\\n{d}\")\n",
    "print(f\"Determnenant of identity matrix multiplied by 2 = {np.linalg.det(np.identity(5) * 2)}\") #find the determenant"
   ]
  },
  {
   "cell_type": "markdown",
   "metadata": {},
   "source": [
    "# Linear Algebra\n",
    "* Determentant\n",
    "* Trace\n",
    "* Singluar vector decomposition\n",
    "* Eigen values\n",
    "* Matrix norm\n",
    "* inverse\n",
    "* est...\n"
   ]
  },
  {
   "cell_type": "code",
   "execution_count": 96,
   "metadata": {},
   "outputs": [
    {
     "name": "stdout",
     "output_type": "stream",
     "text": [
      "[[1. 1. 1. 1.]\n",
      " [0. 0. 0. 0.]]\n",
      "[[1. 1. 1. 1. 0. 0. 0. 0.]]\n",
      "[[ True  True  True  True]\n",
      " [False False False False]]\n"
     ]
    }
   ],
   "source": [
    "v1 = np.ones((1,4))\n",
    "v2 = np.zeros( (1,4) )\n",
    "a = np.vstack([v1,v2] )\n",
    "b = np.hstack([v1,v2] )\n",
    "\n",
    "print(f\"{a}\")\n",
    "print(f\"{b}\")\n",
    "print(f\"{a>=1}\")\n"
   ]
  },
  {
   "cell_type": "code",
   "execution_count": null,
   "metadata": {},
   "outputs": [],
   "source": []
  }
 ],
 "metadata": {
  "kernelspec": {
   "display_name": "Python 3",
   "language": "python",
   "name": "python3"
  },
  "language_info": {
   "codemirror_mode": {
    "name": "ipython",
    "version": 3
   },
   "file_extension": ".py",
   "mimetype": "text/x-python",
   "name": "python",
   "nbconvert_exporter": "python",
   "pygments_lexer": "ipython3",
   "version": "3.7.6"
  }
 },
 "nbformat": 4,
 "nbformat_minor": 4
}
