{
 "cells": [
  {
   "cell_type": "code",
   "execution_count": 7,
   "metadata": {},
   "outputs": [],
   "source": [
    "friends= [ \"M1\" , \"M2\" , \"M3\" ,123]"
   ]
  },
  {
   "cell_type": "code",
   "execution_count": 8,
   "metadata": {},
   "outputs": [
    {
     "name": "stdout",
     "output_type": "stream",
     "text": [
      "['M1', 'M2', 'M3', 123]\n"
     ]
    }
   ],
   "source": [
    "print(friends)"
   ]
  },
  {
   "cell_type": "code",
   "execution_count": 9,
   "metadata": {},
   "outputs": [
    {
     "name": "stdout",
     "output_type": "stream",
     "text": [
      "123\n"
     ]
    }
   ],
   "source": [
    "print(friends[3])"
   ]
  },
  {
   "cell_type": "code",
   "execution_count": 10,
   "metadata": {},
   "outputs": [
    {
     "name": "stdout",
     "output_type": "stream",
     "text": [
      "M3\n"
     ]
    }
   ],
   "source": [
    "print(friends[-2])"
   ]
  },
  {
   "cell_type": "code",
   "execution_count": 11,
   "metadata": {},
   "outputs": [
    {
     "name": "stdout",
     "output_type": "stream",
     "text": [
      "['M1', 'M2']\n"
     ]
    }
   ],
   "source": [
    "print(friends[0:2])"
   ]
  },
  {
   "cell_type": "code",
   "execution_count": 12,
   "metadata": {},
   "outputs": [],
   "source": [
    "friends[1] = \"M4\""
   ]
  },
  {
   "cell_type": "code",
   "execution_count": 13,
   "metadata": {},
   "outputs": [],
   "source": [
    "rand_nums = [3, 43, 54, 12]"
   ]
  },
  {
   "cell_type": "code",
   "execution_count": 19,
   "metadata": {},
   "outputs": [
    {
     "name": "stdout",
     "output_type": "stream",
     "text": [
      "['M1', 'M4', 'M3', 123, 3, 43, 54, 12, 3, 43, 54, 12, 3, 43, 54, 12, 3, 43, 54, 12, 3, 43, 54, 12]\n"
     ]
    }
   ],
   "source": [
    "friends.extend(rand_nums)\n",
    "print(friends)"
   ]
  },
  {
   "cell_type": "code",
   "execution_count": 20,
   "metadata": {},
   "outputs": [
    {
     "name": "stdout",
     "output_type": "stream",
     "text": [
      "['M1', 'M4', 'M3', 123, 3, 43, 54, 12, 3, 43, 54, 12, 3, 43, 54, 12, 3, 43, 54, 12, 3, 43, 54, 12, [3, 43, 54, 12]]\n"
     ]
    }
   ],
   "source": [
    "friends.append(rand_nums)\n",
    "print(friends)"
   ]
  },
  {
   "cell_type": "code",
   "execution_count": 21,
   "metadata": {},
   "outputs": [
    {
     "name": "stdout",
     "output_type": "stream",
     "text": [
      "['M1', 'mohamed', 'M4', 'M3', 123, 3, 43, 54, 12, 3, 43, 54, 12, 3, 43, 54, 12, 3, 43, 54, 12, 3, 43, 54, 12, [3, 43, 54, 12]]\n"
     ]
    }
   ],
   "source": [
    "friends.insert(1,\"mohamed\")\n",
    "print(friends)"
   ]
  },
  {
   "cell_type": "code",
   "execution_count": 22,
   "metadata": {},
   "outputs": [
    {
     "name": "stdout",
     "output_type": "stream",
     "text": [
      "['M1', 'mohamed', 'M4', 'M3', 123, 3, 43, 54, 12, 3, 43, 54, 12, 3, 43, 54, 12, 3, 43, 54, 12, 3, 43, 54, 12]\n"
     ]
    }
   ],
   "source": [
    "friends.remove(rand_nums)\n",
    "print(friends)"
   ]
  },
  {
   "cell_type": "code",
   "execution_count": 24,
   "metadata": {},
   "outputs": [
    {
     "name": "stdout",
     "output_type": "stream",
     "text": [
      "[]\n"
     ]
    }
   ],
   "source": [
    "friends.clear()\n",
    "print(friends)"
   ]
  },
  {
   "cell_type": "code",
   "execution_count": 29,
   "metadata": {},
   "outputs": [
    {
     "name": "stdout",
     "output_type": "stream",
     "text": [
      "[1, 1, 1, 1]\n",
      "[1, 1, 1]\n"
     ]
    }
   ],
   "source": [
    "friends.append(1)\n",
    "print(friends)\n",
    "friends.pop()\n",
    "print(friends)\n"
   ]
  },
  {
   "cell_type": "code",
   "execution_count": 40,
   "metadata": {},
   "outputs": [
    {
     "name": "stdout",
     "output_type": "stream",
     "text": [
      "1\n",
      "1\n",
      "['M1', 'M2', 'M3']\n",
      "['M3', 'M2', 'M1']\n"
     ]
    }
   ],
   "source": [
    "friends= [ \"M3\" , \"M2\" , \"M1\" ]\n",
    "print(friends.index(\"M2\"))\n",
    "print(friends.count(\"M2\"))\n",
    "friends.sort()\n",
    "print(friends)\n",
    "friends.reverse()\n",
    "print(friends)\n",
    "list2 = friends.copy()\n"
   ]
  },
  {
   "cell_type": "code",
   "execution_count": null,
   "metadata": {},
   "outputs": [],
   "source": []
  }
 ],
 "metadata": {
  "kernelspec": {
   "display_name": "Python 3",
   "language": "python",
   "name": "python3"
  },
  "language_info": {
   "codemirror_mode": {
    "name": "ipython",
    "version": 3
   },
   "file_extension": ".py",
   "mimetype": "text/x-python",
   "name": "python",
   "nbconvert_exporter": "python",
   "pygments_lexer": "ipython3",
   "version": "3.7.6"
  }
 },
 "nbformat": 4,
 "nbformat_minor": 4
}
