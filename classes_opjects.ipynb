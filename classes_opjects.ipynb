{
 "cells": [
  {
   "cell_type": "code",
   "execution_count": 20,
   "metadata": {},
   "outputs": [
    {
     "name": "stdout",
     "output_type": "stream",
     "text": [
      "mohamed 2.2 False\n",
      "False\n",
      "Can i help u True\n"
     ]
    }
   ],
   "source": [
    "#we can make class file and >> from Student import Student\n",
    "class Student:\n",
    "\n",
    "    def __init__(self , name , major , gpa , is_on_probation):\n",
    "        self.name = name \n",
    "        self.major = major\n",
    "        self.gpa = gpa\n",
    "        self.is_on_probation = is_on_probation\n",
    "        return\n",
    "    def is_on_honor_roll(self):\n",
    "        if self.gpa >= 3.5:\n",
    "            return True\n",
    "        else:\n",
    "            return False\n",
    "    \n",
    "student1 = Student(\"mohamed\" , \"embedded\" , 2.2 , False)    \n",
    "student2 = Student(\"M2\" , \"none\" , 3.9 ,True)    \n",
    "\n",
    "print(student1.name , student1.gpa , student1.is_on_probation)\n",
    "\n",
    "#i passed the mcq test project which is a good practice\n",
    "#this section is class function\n",
    "print(Student.is_on_honor_roll(student1))\n",
    "\n",
    "\n",
    "# inheritence\n",
    "class volunteer_student(Student):\n",
    "    def offer_help(self):\n",
    "        return \"Can i help u\"\n",
    "    def is_on_honor_roll(self):\n",
    "        return True\n",
    "\n",
    "volunteer1 = volunteer_student(\"M3\" , \"none\" , 3.6 , False)\n",
    "print(volunteer1.offer_help(),volunteer1.is_on_honor_roll())"
   ]
  },
  {
   "cell_type": "code",
   "execution_count": 11,
   "metadata": {},
   "outputs": [
    {
     "name": "stdout",
     "output_type": "stream",
     "text": [
      "[[-0.19821983 -0.94124541 -1.16596916  0.92267442]]\n",
      "[[0.01445454 0.2730686  0.3386334  0.02556491]]\n"
     ]
    }
   ],
   "source": [
    "import numpy as np\n",
    "arr1 = 1 * np.random.randn(1 , 4)\n",
    "arr2 = 1 * np.random.rand(1 , 4)\n",
    "\n",
    "print(arr1)\n",
    "print(arr2)\n"
   ]
  },
  {
   "cell_type": "code",
   "execution_count": null,
   "metadata": {},
   "outputs": [],
   "source": []
  },
  {
   "cell_type": "code",
   "execution_count": null,
   "metadata": {},
   "outputs": [],
   "source": []
  }
 ],
 "metadata": {
  "kernelspec": {
   "display_name": "Python 3",
   "language": "python",
   "name": "python3"
  },
  "language_info": {
   "codemirror_mode": {
    "name": "ipython",
    "version": 3
   },
   "file_extension": ".py",
   "mimetype": "text/x-python",
   "name": "python",
   "nbconvert_exporter": "python",
   "pygments_lexer": "ipython3",
   "version": "3.7.6"
  }
 },
 "nbformat": 4,
 "nbformat_minor": 4
}
