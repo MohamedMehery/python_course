{
 "cells": [
  {
   "cell_type": "code",
   "execution_count": 56,
   "metadata": {},
   "outputs": [
    {
     "name": "stdout",
     "output_type": "stream",
     "text": [
      "Mohamed Abdelnasser\n",
      "\n",
      "Embedded software engineeris learning python\n",
      "\n",
      "is learning python\n",
      "\n",
      "is learning python\n",
      "\n",
      "is learning python\n",
      "\n",
      "Mohamed Abdelnasser\n",
      "\n",
      "Embedded software engineeris learning python\n",
      "\n",
      "is learning python\n",
      "\n",
      "is learning python\n",
      "\n",
      "is learning python\n",
      "\n",
      "is learning python\n",
      "\n",
      "I'm learning python\n",
      "\n"
     ]
    }
   ],
   "source": [
    "\"\"\"\n",
    "open(\"Mytext.txt\",\"r+\") read-write\n",
    "open(\"Mytext.txt\",\"w\") write\n",
    "open(\"Mytext.txt\",\"a\") append\n",
    "\n",
    "\"\"\"\n",
    "\"\"\"\n",
    "mytext = open(\"Mytext.txt\",\"w\")\n",
    "print(mytext.readable())\"\"\"\n",
    "mytext = open(\"Mytext.txt\",\"r\")\n",
    "#print(mytext.readable())\n",
    "#print(mytext.readline())\n",
    "#print(mytext.readlines()) #this function puts the file in array\n",
    "for i in mytext.readlines():\n",
    "    print(i)\n",
    "\n",
    "mytext = open(\"Mytext.txt\" , 'a')\n",
    "mytext.write(\"is learning python\\n\")\n",
    "mytext = open(\"Mytext.txt\" , 'r')\n",
    "for i in mytext.readlines():\n",
    "    print(i)\n",
    "\n",
    "newfile = open(\"newfile.txt\" , 'r+')\n",
    "newfile.write(\"I'm learning python\\n\")\n",
    "for i in newfile.readlines():\n",
    "    print(i)\n",
    "\n",
    "    \n",
    "mytext.close()"
   ]
  },
  {
   "cell_type": "code",
   "execution_count": null,
   "metadata": {},
   "outputs": [],
   "source": []
  }
 ],
 "metadata": {
  "kernelspec": {
   "display_name": "Python 3",
   "language": "python",
   "name": "python3"
  },
  "language_info": {
   "codemirror_mode": {
    "name": "ipython",
    "version": 3
   },
   "file_extension": ".py",
   "mimetype": "text/x-python",
   "name": "python",
   "nbconvert_exporter": "python",
   "pygments_lexer": "ipython3",
   "version": "3.7.6"
  }
 },
 "nbformat": 4,
 "nbformat_minor": 4
}
