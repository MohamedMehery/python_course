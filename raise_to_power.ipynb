{
 "cells": [
  {
   "cell_type": "code",
   "execution_count": 21,
   "metadata": {},
   "outputs": [
    {
     "name": "stdout",
     "output_type": "stream",
     "text": [
      "16\n",
      "2\n",
      "1\n",
      "2\n",
      "3\n",
      "4\n",
      "5\n",
      "6\n",
      "6\n",
      "7\n",
      "8\n",
      "9\n",
      "0\n",
      "enter senctenceMohamEd\n",
      "MghgmGd\n"
     ]
    }
   ],
   "source": [
    "def raise_to_power(num1 , num2):\n",
    "    result = 1\n",
    "    for i in range(num2):\n",
    "        result = result * num1\n",
    "    return result\n",
    "\n",
    "print(raise_to_power(2 , 4))\n",
    "\n",
    "Num_mtx = [ [1, 2, 3] , [4 , 5 , 6] , [6 , 7 , 8] , [9 , 0]]\n",
    "print(Num_mtx[0][1])\n",
    "\n",
    "for rows in Num_mtx:\n",
    "    for colms in rows:\n",
    "        print(colms)\n",
    "        \n",
    "\"\"\" this function change vowles letters to 'g'\"\"\"     \n",
    "def change_vowles_to_g(str):\n",
    "    trans = \"\"\n",
    "    for i in str:\n",
    "        if i in \"AEIUOaeiuo\":\n",
    "            if i.islower():\n",
    "                trans = trans + 'g'\n",
    "            else:\n",
    "                trans = trans + 'G'\n",
    "        else:\n",
    "            trans = trans + i\n",
    "    return trans\n",
    "sentence = input(\"enter senctence\")\n",
    "print(change_vowles_to_g(sentence))\n",
    "\n"
   ]
  },
  {
   "cell_type": "code",
   "execution_count": null,
   "metadata": {},
   "outputs": [],
   "source": []
  }
 ],
 "metadata": {
  "kernelspec": {
   "display_name": "Python 3",
   "language": "python",
   "name": "python3"
  },
  "language_info": {
   "codemirror_mode": {
    "name": "ipython",
    "version": 3
   },
   "file_extension": ".py",
   "mimetype": "text/x-python",
   "name": "python",
   "nbconvert_exporter": "python",
   "pygments_lexer": "ipython3",
   "version": "3.7.6"
  }
 },
 "nbformat": 4,
 "nbformat_minor": 4
}
